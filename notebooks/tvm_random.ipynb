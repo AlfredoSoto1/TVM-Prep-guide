{
 "cells": [
  {
   "cell_type": "markdown",
   "id": "726ebd4c",
   "metadata": {},
   "source": [
    "This is a basic TVM example on how it can be used to compile matrix-arithmetic "
   ]
  },
  {
   "cell_type": "code",
   "execution_count": null,
   "id": "c86590d8",
   "metadata": {},
   "outputs": [],
   "source": [
    "import numpy as np\n",
    "import tvm\n",
    "from tvm import te\n",
    "\n",
    "\n",
    "def main():\n",
    "    print(\"TVM version:\", tvm.__version__)\n",
    "\n",
    "    # 1) Check that the LLVM target is enabled (CPU JIT)\n",
    "    has_llvm = tvm.runtime.enabled(\"llvm\")\n",
    "    print(\"LLVM available:\", has_llvm)\n",
    "    if not has_llvm:\n",
    "        raise RuntimeError(\n",
    "            \"TVM CPU JIT (llvm) is not available. Check your TVM install.\")\n",
    "\n",
    "    target = \"llvm\"\n",
    "    dev = tvm.cpu(0)\n",
    "\n",
    "    # 2) Build and run a tiny vector-add kernel\n",
    "    n = 1024\n",
    "    A = te.placeholder((n,), name=\"A\", dtype=\"float32\")\n",
    "    B = te.placeholder((n,), name=\"B\", dtype=\"float32\")\n",
    "    C = te.compute((n,), lambda i: A[i] + B[i], name=\"C\")\n",
    "    s = te.create_schedule(C.op)\n",
    "\n",
    "    print(\"Building kernel for target:\", target)\n",
    "    fadd = tvm.build(s, [A, B, C], target=target, name=\"vadd\")\n",
    "    print(\"Lowered IR built OK. Running...\")\n",
    "\n",
    "    a_np = np.random.rand(n).astype(\"float32\")\n",
    "    b_np = np.random.rand(n).astype(\"float32\")\n",
    "    c_ref = a_np + b_np\n",
    "\n",
    "    a_tvm = tvm.nd.array(a_np, device=dev)\n",
    "    b_tvm = tvm.nd.array(b_np, device=dev)\n",
    "    c_tvm = tvm.nd.array(np.zeros(n, dtype=\"float32\"), device=dev)\n",
    "\n",
    "    fadd(a_tvm, b_tvm, c_tvm)\n",
    "\n",
    "    # 3) Validate numerics\n",
    "    np.testing.assert_allclose(c_tvm.numpy(), c_ref, rtol=1e-5, atol=1e-5)\n",
    "    print(\"✅ Vector add correctness check passed.\")\n",
    "\n",
    "    # 4) (Optional) Quick perf smoke check\n",
    "    import time\n",
    "    iters = 200\n",
    "    t0 = time.time()\n",
    "    for _ in range(iters):\n",
    "        fadd(a_tvm, b_tvm, c_tvm)\n",
    "    t1 = time.time()\n",
    "    print(f\"Ran {iters} iters in {t1 - t0:.4f}s ({iters/(t1-t0):.1f} iters/sec)\")\n",
    "\n",
    "\n",
    "if __name__ == \"__main__\":\n",
    "    main()\n"
   ]
  }
 ],
 "metadata": {
  "language_info": {
   "name": "python"
  }
 },
 "nbformat": 4,
 "nbformat_minor": 5
}
