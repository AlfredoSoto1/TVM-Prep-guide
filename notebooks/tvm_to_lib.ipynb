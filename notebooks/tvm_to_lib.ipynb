{
 "cells": [
  {
   "cell_type": "code",
   "execution_count": null,
   "id": "4ffca63d",
   "metadata": {},
   "outputs": [],
   "source": [
    "import torch\n",
    "import torchvision\n",
    "from torchvision.models import ResNet18_Weights\n",
    "\n",
    "# 1) Load a pretrained model (already trained; we're not training here)\n",
    "model = torchvision.models.resnet18(weights=ResNet18_Weights.DEFAULT).eval()\n",
    "\n",
    "# 2) Dummy input shape must match the model's expectation\n",
    "dummy_input = torch.randn(1, 3, 224, 224)\n",
    "\n",
    "# 3) Export to ONNX: this freezes the graph + weights into a portable file\n",
    "torch.onnx.export(\n",
    "    model,\n",
    "    dummy_input,\n",
    "    \"resnet18.onnx\",\n",
    "    input_names=[\"input\"],       # name used later in TVM runtime\n",
    "    output_names=[\"output\"],\n",
    "    opset_version=18,            # operator set version (compatibility)\n",
    "    do_constant_folding=True,    # fold constants for small optimizations\n",
    "    # dynamic_axes={\"input\": {0: \"batch\"}, \"output\": {0: \"batch\"}},  # optional\n",
    ")\n",
    "\n",
    "print(\"Wrote resnet18.onnx\")"
   ]
  },
  {
   "cell_type": "code",
   "execution_count": null,
   "id": "5610cb28",
   "metadata": {},
   "outputs": [],
   "source": [
    "import onnx\n",
    "import tvm\n",
    "from tvm import relay\n",
    "from tvm.contrib import graph_executor\n",
    "\n",
    "onnx_model = onnx.load(\"resnet18.onnx\")\n",
    "\n",
    "# Input shape\n",
    "input_name = \"input\"\n",
    "shape_dict = {input_name: (1, 3, 224, 224)}\n",
    "\n",
    "# Import model to Relay\n",
    "mod, params = relay.frontend.from_onnx(onnx_model, shape_dict)\n",
    "\n",
    "# Target: CPU (change to \"cuda\" for GPU)\n",
    "target = \"llvm\"\n",
    "\n",
    "with tvm.transform.PassContext(opt_level=3):\n",
    "    lib = relay.build(mod, target=target, params=params)\n",
    "\n",
    "# Save compiled artifacts\n",
    "lib.export_library(\"deploy_lib_cpu.so\")\n",
    "with open(\"deploy_graph.json\", \"w\") as f:\n",
    "    f.write(lib.get_graph_json())\n",
    "with open(\"deploy_params.params\", \"wb\") as f:\n",
    "    f.write(tvm.runtime.save_param_dict(lib.get_params()))\n",
    "\n",
    "print(\"Compiled and exported TVM artifacts:\")\n",
    "print(\" - deploy_lib_cpu.so\")\n",
    "print(\" - deploy_graph.json\")\n",
    "print(\" - deploy_params.params\")"
   ]
  }
 ],
 "metadata": {
  "language_info": {
   "name": "python"
  }
 },
 "nbformat": 4,
 "nbformat_minor": 5
}
