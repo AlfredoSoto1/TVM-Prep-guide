{
 "cells": [
  {
   "cell_type": "code",
   "execution_count": 1,
   "id": "4ffca63d",
   "metadata": {},
   "outputs": [
    {
     "name": "stdout",
     "output_type": "stream",
     "text": [
      "Downloading: \"https://download.pytorch.org/models/resnet18-f37072fd.pth\" to /home/vscode/.cache/torch/hub/checkpoints/resnet18-f37072fd.pth\n"
     ]
    },
    {
     "name": "stderr",
     "output_type": "stream",
     "text": [
      "100.0%\n"
     ]
    },
    {
     "name": "stdout",
     "output_type": "stream",
     "text": [
      "[torch.onnx] Obtain model graph for `ResNet([...]` with `torch.export.export(..., strict=False)`...\n",
      "[torch.onnx] Obtain model graph for `ResNet([...]` with `torch.export.export(..., strict=False)`... ✅\n",
      "[torch.onnx] Run decomposition...\n",
      "[torch.onnx] Run decomposition... ✅\n",
      "[torch.onnx] Translate the graph into ONNX...\n",
      "[torch.onnx] Translate the graph into ONNX... ✅\n",
      "Wrote resnet18.onnx\n"
     ]
    }
   ],
   "source": [
    "import torch\n",
    "import torchvision\n",
    "from torchvision.models import ResNet18_Weights\n",
    "\n",
    "# 1) Load a pretrained model (already trained; we're not training here)\n",
    "model = torchvision.models.resnet18(weights=ResNet18_Weights.DEFAULT).eval()\n",
    "\n",
    "# 2) Dummy input shape must match the model's expectation\n",
    "dummy_input = torch.randn(1, 3, 224, 224)\n",
    "\n",
    "# 3) Export to ONNX: this freezes the graph + weights into a portable file\n",
    "torch.onnx.export(\n",
    "    model,\n",
    "    dummy_input,\n",
    "    \"resnet18.onnx\",\n",
    "    input_names=[\"input\"],       # name used later in TVM runtime\n",
    "    output_names=[\"output\"],\n",
    "    opset_version=18,            # operator set version (compatibility)\n",
    "    do_constant_folding=True,    # fold constants for small optimizations\n",
    "    # dynamic_axes={\"input\": {0: \"batch\"}, \"output\": {0: \"batch\"}},  # optional\n",
    ")\n",
    "\n",
    "print(\"Wrote resnet18.onnx\")"
   ]
  },
  {
   "cell_type": "code",
   "execution_count": null,
   "id": "5610cb28",
   "metadata": {},
   "outputs": [
    {
     "ename": "ImportError",
     "evalue": "Unable to import onnx which is required No module named 'onnx.mapping'",
     "output_type": "error",
     "traceback": [
      "\u001b[31m---------------------------------------------------------------------------\u001b[39m",
      "\u001b[31mModuleNotFoundError\u001b[39m                       Traceback (most recent call last)",
      "\u001b[36mFile \u001b[39m\u001b[32m/usr/local/lib/python3.11/site-packages/tvm/relay/frontend/onnx.py:108\u001b[39m, in \u001b[36mget_type\u001b[39m\u001b[34m(elem_type)\u001b[39m\n\u001b[32m    107\u001b[39m \u001b[38;5;28;01mtry\u001b[39;00m:\n\u001b[32m--> \u001b[39m\u001b[32m108\u001b[39m     \u001b[38;5;28;01mfrom\u001b[39;00m\u001b[38;5;250m \u001b[39m\u001b[34;01monnx\u001b[39;00m\u001b[34;01m.\u001b[39;00m\u001b[34;01mmapping\u001b[39;00m\u001b[38;5;250m \u001b[39m\u001b[38;5;28;01mimport\u001b[39;00m TENSOR_TYPE_TO_NP_TYPE\n\u001b[32m    109\u001b[39m \u001b[38;5;28;01mexcept\u001b[39;00m \u001b[38;5;167;01mImportError\u001b[39;00m \u001b[38;5;28;01mas\u001b[39;00m e:\n",
      "\u001b[31mModuleNotFoundError\u001b[39m: No module named 'onnx.mapping'",
      "\nDuring handling of the above exception, another exception occurred:\n",
      "\u001b[31mImportError\u001b[39m                               Traceback (most recent call last)",
      "\u001b[36mCell\u001b[39m\u001b[36m \u001b[39m\u001b[32mIn[2]\u001b[39m\u001b[32m, line 13\u001b[39m\n\u001b[32m     10\u001b[39m shape_dict = {input_name: (\u001b[32m1\u001b[39m, \u001b[32m3\u001b[39m, \u001b[32m224\u001b[39m, \u001b[32m224\u001b[39m)}\n\u001b[32m     12\u001b[39m \u001b[38;5;66;03m# Import model to Relay\u001b[39;00m\n\u001b[32m---> \u001b[39m\u001b[32m13\u001b[39m mod, params = \u001b[43mrelay\u001b[49m\u001b[43m.\u001b[49m\u001b[43mfrontend\u001b[49m\u001b[43m.\u001b[49m\u001b[43mfrom_onnx\u001b[49m\u001b[43m(\u001b[49m\u001b[43monnx_model\u001b[49m\u001b[43m,\u001b[49m\u001b[43m \u001b[49m\u001b[43mshape_dict\u001b[49m\u001b[43m)\u001b[49m\n\u001b[32m     15\u001b[39m \u001b[38;5;66;03m# Target: CPU (change to \"cuda\" for GPU)\u001b[39;00m\n\u001b[32m     16\u001b[39m target = \u001b[33m\"\u001b[39m\u001b[33mllvm\u001b[39m\u001b[33m\"\u001b[39m\n",
      "\u001b[36mFile \u001b[39m\u001b[32m/usr/local/lib/python3.11/site-packages/tvm/relay/frontend/onnx.py:7220\u001b[39m, in \u001b[36mfrom_onnx\u001b[39m\u001b[34m(model, shape, dtype, opset, freeze_params, convert_config, export_node_renamed_model_path)\u001b[39m\n\u001b[32m   7218\u001b[39m \u001b[38;5;66;03m# Use the graph proto as a scope so that ops can access other nodes if needed.\u001b[39;00m\n\u001b[32m   7219\u001b[39m \u001b[38;5;28;01mwith\u001b[39;00m g:\n\u001b[32m-> \u001b[39m\u001b[32m7220\u001b[39m     mod, params = \u001b[43mg\u001b[49m\u001b[43m.\u001b[49m\u001b[43mfrom_onnx\u001b[49m\u001b[43m(\u001b[49m\u001b[43mgraph\u001b[49m\u001b[43m,\u001b[49m\u001b[43m \u001b[49m\u001b[43mopset\u001b[49m\u001b[43m)\u001b[49m\n\u001b[32m   7222\u001b[39m \u001b[38;5;28;01mif\u001b[39;00m export_node_renamed_model_path:\n\u001b[32m   7223\u001b[39m     export_model(export_node_renamed_model_path, graph)\n",
      "\u001b[36mFile \u001b[39m\u001b[32m/usr/local/lib/python3.11/site-packages/tvm/relay/frontend/onnx.py:6836\u001b[39m, in \u001b[36mGraphProto.from_onnx\u001b[39m\u001b[34m(self, graph, opset, get_output_expr)\u001b[39m\n\u001b[32m   6834\u001b[39m \u001b[38;5;28mself\u001b[39m.opset = opset\n\u001b[32m   6835\u001b[39m \u001b[38;5;28mself\u001b[39m._parse_graph_initializers(graph)\n\u001b[32m-> \u001b[39m\u001b[32m6836\u001b[39m \u001b[38;5;28;43mself\u001b[39;49m\u001b[43m.\u001b[49m\u001b[43m_parse_graph_input\u001b[49m\u001b[43m(\u001b[49m\u001b[43mgraph\u001b[49m\u001b[43m)\u001b[49m\n\u001b[32m   6837\u001b[39m \u001b[38;5;28mself\u001b[39m._check_user_inputs_in_outermost_graph_scope()\n\u001b[32m   6838\u001b[39m \u001b[38;5;28mself\u001b[39m._check_for_unsupported_ops(graph)\n",
      "\u001b[36mFile \u001b[39m\u001b[32m/usr/local/lib/python3.11/site-packages/tvm/relay/frontend/onnx.py:6879\u001b[39m, in \u001b[36mGraphProto._parse_graph_input\u001b[39m\u001b[34m(self, graph)\u001b[39m\n\u001b[32m   6875\u001b[39m \u001b[38;5;28;01mdef\u001b[39;00m\u001b[38;5;250m \u001b[39m\u001b[34m_parse_graph_input\u001b[39m(\u001b[38;5;28mself\u001b[39m, graph):\n\u001b[32m   6876\u001b[39m     \u001b[38;5;28;01mfor\u001b[39;00m i \u001b[38;5;129;01min\u001b[39;00m graph.input:\n\u001b[32m   6877\u001b[39m         \u001b[38;5;66;03m# from onnx v0.2, GraphProto.input has type ValueInfoProto,\u001b[39;00m\n\u001b[32m   6878\u001b[39m         \u001b[38;5;66;03m#  and the name is 'i.name'\u001b[39;00m\n\u001b[32m-> \u001b[39m\u001b[32m6879\u001b[39m         i_name, i_shape, d_type, i_shape_name = \u001b[43mget_info\u001b[49m\u001b[43m(\u001b[49m\u001b[43mi\u001b[49m\u001b[43m)\u001b[49m\n\u001b[32m   6880\u001b[39m         \u001b[38;5;28;01mif\u001b[39;00m i_name \u001b[38;5;129;01min\u001b[39;00m \u001b[38;5;28mself\u001b[39m._params:\n\u001b[32m   6881\u001b[39m             \u001b[38;5;66;03m# i is a param instead of input\u001b[39;00m\n\u001b[32m   6882\u001b[39m             \u001b[38;5;28mself\u001b[39m._num_param += \u001b[32m1\u001b[39m\n",
      "\u001b[36mFile \u001b[39m\u001b[32m/usr/local/lib/python3.11/site-packages/tvm/relay/frontend/onnx.py:141\u001b[39m, in \u001b[36mget_info\u001b[39m\u001b[34m(info_proto)\u001b[39m\n\u001b[32m    139\u001b[39m name = info_proto.name\n\u001b[32m    140\u001b[39m \u001b[38;5;28;01mif\u001b[39;00m info_proto.type.tensor_type.elem_type:\n\u001b[32m--> \u001b[39m\u001b[32m141\u001b[39m     dtype = \u001b[43mget_type\u001b[49m\u001b[43m(\u001b[49m\u001b[43minfo_proto\u001b[49m\u001b[43m.\u001b[49m\u001b[43mtype\u001b[49m\u001b[43m.\u001b[49m\u001b[43mtensor_type\u001b[49m\u001b[43m.\u001b[49m\u001b[43melem_type\u001b[49m\u001b[43m)\u001b[49m\n\u001b[32m    142\u001b[39m \u001b[38;5;28;01melse\u001b[39;00m:\n\u001b[32m    143\u001b[39m     dtype = \u001b[38;5;28;01mNone\u001b[39;00m\n",
      "\u001b[36mFile \u001b[39m\u001b[32m/usr/local/lib/python3.11/site-packages/tvm/relay/frontend/onnx.py:110\u001b[39m, in \u001b[36mget_type\u001b[39m\u001b[34m(elem_type)\u001b[39m\n\u001b[32m    108\u001b[39m     \u001b[38;5;28;01mfrom\u001b[39;00m\u001b[38;5;250m \u001b[39m\u001b[34;01monnx\u001b[39;00m\u001b[34;01m.\u001b[39;00m\u001b[34;01mmapping\u001b[39;00m\u001b[38;5;250m \u001b[39m\u001b[38;5;28;01mimport\u001b[39;00m TENSOR_TYPE_TO_NP_TYPE\n\u001b[32m    109\u001b[39m \u001b[38;5;28;01mexcept\u001b[39;00m \u001b[38;5;167;01mImportError\u001b[39;00m \u001b[38;5;28;01mas\u001b[39;00m e:\n\u001b[32m--> \u001b[39m\u001b[32m110\u001b[39m     \u001b[38;5;28;01mraise\u001b[39;00m \u001b[38;5;167;01mImportError\u001b[39;00m(\u001b[33mf\u001b[39m\u001b[33m\"\u001b[39m\u001b[33mUnable to import onnx which is required \u001b[39m\u001b[38;5;132;01m{\u001b[39;00me\u001b[38;5;132;01m}\u001b[39;00m\u001b[33m\"\u001b[39m)\n\u001b[32m    112\u001b[39m \u001b[38;5;28;01mtry\u001b[39;00m:\n\u001b[32m    113\u001b[39m     \u001b[38;5;28;01mfrom\u001b[39;00m\u001b[38;5;250m \u001b[39m\u001b[34;01monnx\u001b[39;00m\u001b[38;5;250m \u001b[39m\u001b[38;5;28;01mimport\u001b[39;00m TensorProto\n",
      "\u001b[31mImportError\u001b[39m: Unable to import onnx which is required No module named 'onnx.mapping'"
     ]
    }
   ],
   "source": [
    "import onnx\n",
    "import tvm\n",
    "from tvm import relay\n",
    "from tvm.contrib import graph_executor\n",
    "\n",
    "# Load the ONNX model\n",
    "onnx_model = onnx.load(\"resnet18.onnx\")\n",
    "\n",
    "# Input shape dictionary. Ensure \"input\" matches the actual input name in your ONNX model.\n",
    "# You can check this using onnx.load(\"resnet18.onnx\").graph.input[0].name\n",
    "input_name = \"input\" # Common input name, but verify if your model uses a different one\n",
    "shape_dict = {input_name: (1, 3, 224, 224)}\n",
    "\n",
    "# Import the ONNX model to TVM Relay format\n",
    "# The error in your traceback (from_onnx(onnx_model, shape_dict)) implies onnx.mapping was called internally.\n",
    "# Upgrading onnx should fix this if it's a version incompatibility.\n",
    "mod, params = relay.frontend.from_onnx(onnx_model, shape_dict)\n",
    "\n",
    "# Set the compilation target. \"llvm\" for CPU, \"cuda\" for NVIDIA GPUs.\n",
    "target = \"llvm\" # or \"cuda\" if you have a GPU and CUDA installed\n",
    "\n",
    "# Compile the model with TVM\n",
    "with tvm.transform.PassContext(opt_level=3):\n",
    "    lib = relay.build(mod, target=target, params=params)\n",
    "\n",
    "# Save the compiled TVM artifacts\n",
    "# These files can then be loaded by the TVM runtime for inference.\n",
    "lib.export_library(\"deploy_lib_cpu.so\")\n",
    "with open(\"deploy_graph.json\", \"w\") as f:\n",
    "    f.write(lib.get_graph_json())\n",
    "with open(\"deploy_params.params\", \"wb\") as f:\n",
    "    f.write(tvm.runtime.save_param_dict(lib.get_params()))\n",
    "\n",
    "print(\"Compiled and exported TVM artifacts:\")\n",
    "print(\" - deploy_lib_cpu.so\")\n",
    "print(\" - deploy_graph.json\")\n",
    "print(\" - deploy_params.params\")"
   ]
  }
 ],
 "metadata": {
  "kernelspec": {
   "display_name": "Python 3",
   "language": "python",
   "name": "python3"
  },
  "language_info": {
   "codemirror_mode": {
    "name": "ipython",
    "version": 3
   },
   "file_extension": ".py",
   "mimetype": "text/x-python",
   "name": "python",
   "nbconvert_exporter": "python",
   "pygments_lexer": "ipython3",
   "version": "3.11.14"
  }
 },
 "nbformat": 4,
 "nbformat_minor": 5
}
